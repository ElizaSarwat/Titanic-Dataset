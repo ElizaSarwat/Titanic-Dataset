{
 "cells": [
  {
   "cell_type": "code",
   "execution_count": 1,
   "id": "a64f6f97-c934-4301-8d50-52bac61161a3",
   "metadata": {},
   "outputs": [],
   "source": [
    "import pandas as pd"
   ]
  },
  {
   "cell_type": "code",
   "execution_count": 2,
   "id": "bff79122-d0eb-43fd-9fd4-c3ba5be46400",
   "metadata": {},
   "outputs": [],
   "source": [
    "from sklearn.model_selection import train_test_split"
   ]
  },
  {
   "cell_type": "code",
   "execution_count": 3,
   "id": "f9fc04d7-776f-4f80-b18c-f103e4a93f1e",
   "metadata": {},
   "outputs": [],
   "source": [
    "from sklearn.ensemble import RandomForestClassifier"
   ]
  },
  {
   "cell_type": "code",
   "execution_count": 4,
   "id": "f71cfc32-915a-4e6b-a119-6ddffd62f986",
   "metadata": {},
   "outputs": [],
   "source": [
    "from sklearn.metrics import accuracy_score"
   ]
  },
  {
   "cell_type": "code",
   "execution_count": 11,
   "id": "018155a6-45f7-4dff-9ea2-a894d25b562e",
   "metadata": {},
   "outputs": [],
   "source": [
    "data = pd.read_csv('Titanic Dataset.csv')"
   ]
  },
  {
   "cell_type": "code",
   "execution_count": 13,
   "id": "b4ee8fa4-b41a-47ed-b008-d9b3dc6bfa85",
   "metadata": {},
   "outputs": [],
   "source": [
    "data['Survived'] = data['Survived'].map({'yes': 1, 'no': 0})"
   ]
  },
  {
   "cell_type": "code",
   "execution_count": 19,
   "id": "3cebe392-f8af-4c28-8791-1cd93939ee2c",
   "metadata": {},
   "outputs": [],
   "source": [
    "data = pd.get_dummies(data, columns=['PassengerId', 'Embarked', 'Fare', 'Parch'])"
   ]
  },
  {
   "cell_type": "code",
   "execution_count": 37,
   "id": "228942ef-76a5-4c22-be9e-de10f7adf36e",
   "metadata": {},
   "outputs": [],
   "source": [
    "X = data.loc[:, 'Survived':'Age']\n",
    "y = data.loc[:, 'Survived':'Age']"
   ]
  },
  {
   "cell_type": "code",
   "execution_count": 39,
   "id": "32e7d08b-59fe-49cf-a15f-e61215f699ef",
   "metadata": {},
   "outputs": [],
   "source": [
    "X_train, X_test, y_train, y_test = train_test_split(X, y, test_size=0.2, random_state=42)"
   ]
  }
 ],
 "metadata": {
  "kernelspec": {
   "display_name": "Python 3 (ipykernel)",
   "language": "python",
   "name": "python3"
  },
  "language_info": {
   "codemirror_mode": {
    "name": "ipython",
    "version": 3
   },
   "file_extension": ".py",
   "mimetype": "text/x-python",
   "name": "python",
   "nbconvert_exporter": "python",
   "pygments_lexer": "ipython3",
   "version": "3.10.9"
  }
 },
 "nbformat": 4,
 "nbformat_minor": 5
}
